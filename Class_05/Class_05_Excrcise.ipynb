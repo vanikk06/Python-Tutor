{
 "cells": [
  {
   "cell_type": "markdown",
   "metadata": {},
   "source": [
    "#### 判斷式\n",
    "\n",
    "`if`、`elif`、`else`"
   ]
  },
  {
   "cell_type": "code",
   "execution_count": null,
   "metadata": {},
   "outputs": [],
   "source": [
    "score = 50"
   ]
  },
  {
   "cell_type": "code",
   "execution_count": null,
   "metadata": {},
   "outputs": [],
   "source": [
    "if score < 60:\n",
    "    print('不及格')\n",
    "else:\n",
    "    print('及格')"
   ]
  },
  {
   "cell_type": "markdown",
   "metadata": {},
   "source": [
    "#### 迴圈\n",
    "\n",
    "執行重複的動作\n",
    "\n",
    "- `for` v.s. `while`：執行重複動作的「對象」不一樣\n",
    "\n",
    "\n",
    "- `for`：一個特定的範圍\n",
    "    \n",
    "  → 停止條件：為對範圍內的所有值執行完要執行的動作\n",
    "        \n",
    "- `while`：單一對象，在此對象滿足某些前提or判斷的前提下，才執行動作\n",
    "    \n",
    "  → 停止條件：對象未滿足前提or判斷"
   ]
  },
  {
   "cell_type": "markdown",
   "metadata": {},
   "source": [
    "使用 `for` 跟 `while` 迴圈印出0到9的數列"
   ]
  },
  {
   "cell_type": "code",
   "execution_count": null,
   "metadata": {},
   "outputs": [],
   "source": [
    "for i in range(10):\n",
    "    print(i)"
   ]
  },
  {
   "cell_type": "code",
   "execution_count": null,
   "metadata": {},
   "outputs": [],
   "source": [
    "n = 0 \n",
    "while n < 10:\n",
    "    print(n)\n",
    "    n += 1"
   ]
  },
  {
   "cell_type": "markdown",
   "metadata": {},
   "source": [
    "#### 函式\n",
    "\n",
    "`def`"
   ]
  },
  {
   "cell_type": "code",
   "execution_count": 34,
   "metadata": {},
   "outputs": [],
   "source": [
    "def test1():\n",
    "    return 'Hello!'"
   ]
  },
  {
   "cell_type": "code",
   "execution_count": 35,
   "metadata": {},
   "outputs": [
    {
     "data": {
      "text/plain": [
       "<function __main__.test1()>"
      ]
     },
     "execution_count": 35,
     "metadata": {},
     "output_type": "execute_result"
    }
   ],
   "source": [
    "test1"
   ]
  },
  {
   "cell_type": "code",
   "execution_count": 36,
   "metadata": {},
   "outputs": [],
   "source": [
    "def test2(a, b):\n",
    "    return a+b"
   ]
  },
  {
   "cell_type": "code",
   "execution_count": 37,
   "metadata": {},
   "outputs": [
    {
     "data": {
      "text/plain": [
       "3"
      ]
     },
     "execution_count": 37,
     "metadata": {},
     "output_type": "execute_result"
    }
   ],
   "source": [
    "test2(1,2)"
   ]
  },
  {
   "cell_type": "markdown",
   "metadata": {},
   "source": [
    "#### Fibo數列\n",
    "\n",
    "- Fibo數列：「第n筆資料」是「第n-1筆資料」加上「第n-2筆資料」\n",
    "\n",
    "    e.g. n = 11 ,產生`[0, 1, 1, 2, 3, 5, 8, 13, 21, 34, 55]`\n",
    "    \n",
    "    \n",
    "    - 第一筆資料 = 0\n",
    "    - 第二筆資料 = 1\n",
    "    - 第三筆資料 = 第一筆資料 + 第二筆資料\n",
    "    - 第四筆資料 = 第二筆資料 + 第三筆資料.... "
   ]
  },
  {
   "cell_type": "code",
   "execution_count": 7,
   "metadata": {},
   "outputs": [
    {
     "name": "stdout",
     "output_type": "stream",
     "text": [
      "0\n",
      "1\n",
      "1\n",
      "2\n",
      "3\n",
      "5\n",
      "8\n",
      "13\n",
      "21\n",
      "34\n",
      "55\n",
      "89\n",
      "144\n",
      "233\n",
      "377\n",
      "610\n",
      "987\n",
      "1597\n",
      "2584\n",
      "4181\n"
     ]
    }
   ],
   "source": [
    "# Method_1\n",
    "\n",
    "a = 0\n",
    "b = 1\n",
    "c = 1\n",
    "\n",
    "print(a)\n",
    "print(b)\n",
    "print(c)\n",
    "\n",
    "for i in range(17):\n",
    "    d = b + c\n",
    "    print(d)\n",
    "    b = c\n",
    "    c = d"
   ]
  },
  {
   "cell_type": "code",
   "execution_count": 3,
   "metadata": {},
   "outputs": [
    {
     "name": "stdout",
     "output_type": "stream",
     "text": [
      "0\n",
      "1\n",
      "2\n",
      "3\n",
      "4\n",
      "5\n",
      "6\n",
      "7\n",
      "8\n",
      "9\n",
      "10\n",
      "11\n",
      "12\n",
      "13\n",
      "14\n",
      "15\n",
      "16\n"
     ]
    }
   ],
   "source": [
    "for i in range(17):\n",
    "    print(i)"
   ]
  },
  {
   "cell_type": "code",
   "execution_count": 8,
   "metadata": {},
   "outputs": [
    {
     "data": {
      "text/plain": [
       "[0, 3]"
      ]
     },
     "execution_count": 8,
     "metadata": {},
     "output_type": "execute_result"
    }
   ],
   "source": [
    "b = [0]\n",
    "b.append(3)\n",
    "b"
   ]
  },
  {
   "cell_type": "code",
   "execution_count": 11,
   "metadata": {},
   "outputs": [
    {
     "name": "stdout",
     "output_type": "stream",
     "text": [
      "0 [0, 1, 1]\n",
      "1 [0, 1, 1, 2]\n",
      "2 [0, 1, 1, 2, 3]\n",
      "3 [0, 1, 1, 2, 3, 5]\n",
      "4 [0, 1, 1, 2, 3, 5, 8]\n",
      "5 [0, 1, 1, 2, 3, 5, 8, 13]\n",
      "6 [0, 1, 1, 2, 3, 5, 8, 13, 21]\n",
      "7 [0, 1, 1, 2, 3, 5, 8, 13, 21, 34]\n",
      "8 [0, 1, 1, 2, 3, 5, 8, 13, 21, 34, 55]\n",
      "9 [0, 1, 1, 2, 3, 5, 8, 13, 21, 34, 55, 89]\n",
      "10 [0, 1, 1, 2, 3, 5, 8, 13, 21, 34, 55, 89, 144]\n",
      "11 [0, 1, 1, 2, 3, 5, 8, 13, 21, 34, 55, 89, 144, 233]\n",
      "12 [0, 1, 1, 2, 3, 5, 8, 13, 21, 34, 55, 89, 144, 233, 377]\n",
      "13 [0, 1, 1, 2, 3, 5, 8, 13, 21, 34, 55, 89, 144, 233, 377, 610]\n",
      "14 [0, 1, 1, 2, 3, 5, 8, 13, 21, 34, 55, 89, 144, 233, 377, 610, 987]\n",
      "15 [0, 1, 1, 2, 3, 5, 8, 13, 21, 34, 55, 89, 144, 233, 377, 610, 987, 1597]\n",
      "16 [0, 1, 1, 2, 3, 5, 8, 13, 21, 34, 55, 89, 144, 233, 377, 610, 987, 1597, 2584]\n"
     ]
    }
   ],
   "source": [
    "b = [0,1]\n",
    "for i in range(17):\n",
    "    b.append(b[i]+b[i+1])\n",
    "    print(i , b)"
   ]
  },
  {
   "cell_type": "code",
   "execution_count": 17,
   "metadata": {},
   "outputs": [
    {
     "data": {
      "text/plain": [
       "[0,\n",
       " 1,\n",
       " 1,\n",
       " 2,\n",
       " 3,\n",
       " 5,\n",
       " 8,\n",
       " 13,\n",
       " 21,\n",
       " 34,\n",
       " 55,\n",
       " 89,\n",
       " 144,\n",
       " 233,\n",
       " 377,\n",
       " 610,\n",
       " 987,\n",
       " 1597,\n",
       " 2584,\n",
       " 4181,\n",
       " 6765]"
      ]
     },
     "execution_count": 17,
     "metadata": {},
     "output_type": "execute_result"
    }
   ],
   "source": [
    "a=[0,1]\n",
    "for i in range(2,21):\n",
    "    a.append(a[i-1]+a[i-2])\n",
    "a\n",
    "# for i in range(20):\n",
    "#     print(a[i])"
   ]
  },
  {
   "cell_type": "code",
   "execution_count": 12,
   "metadata": {},
   "outputs": [],
   "source": [
    "# Method_2\n",
    "\n",
    "def Fibo(x):\n",
    "    fibo = []\n",
    "    for i in range(x):\n",
    "        if i == 0:\n",
    "            fibo.append(0)\n",
    "        elif i == 1 :\n",
    "            fibo.append(1)\n",
    "        else:\n",
    "            fibo.append(fibo[i-1] + fibo[i-2])\n",
    "    return fibo"
   ]
  },
  {
   "cell_type": "code",
   "execution_count": 18,
   "metadata": {},
   "outputs": [
    {
     "data": {
      "text/plain": [
       "[0, 1, 1, 2, 3, 5, 8, 13, 21, 34]"
      ]
     },
     "execution_count": 18,
     "metadata": {},
     "output_type": "execute_result"
    }
   ],
   "source": [
    "Fibo(10)"
   ]
  },
  {
   "cell_type": "code",
   "execution_count": 21,
   "metadata": {},
   "outputs": [],
   "source": [
    "# Method_3\n",
    "\n",
    "def Fibo(x):\n",
    "    a = []\n",
    "    i = 0\n",
    "        \n",
    "    while i < x:\n",
    "        if len(a) == 0:\n",
    "            a.append(0)\n",
    "        elif len(a) == 1:\n",
    "            a.append(1)\n",
    "        else:\n",
    "            a.append(a[i-1] + a[i-2])\n",
    "        i += 1\n",
    "    return a"
   ]
  }
 ],
 "metadata": {
  "kernelspec": {
   "display_name": "Python 3",
   "language": "python",
   "name": "python3"
  },
  "language_info": {
   "codemirror_mode": {
    "name": "ipython",
    "version": 3
   },
   "file_extension": ".py",
   "mimetype": "text/x-python",
   "name": "python",
   "nbconvert_exporter": "python",
   "pygments_lexer": "ipython3",
   "version": "3.7.1"
  }
 },
 "nbformat": 4,
 "nbformat_minor": 2
}
